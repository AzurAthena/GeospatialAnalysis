{
  "nbformat": 4,
  "nbformat_minor": 0,
  "metadata": {
    "colab": {
      "name": "1.Working_with_maps_data.ipynb",
      "provenance": [],
      "collapsed_sections": [],
      "mount_file_id": "1UZ07uqSJ1MYlN-l_eDpK1y0ysq46I4Im",
      "authorship_tag": "ABX9TyPAzZ0ySTKtXchuXEbu7zOm",
      "include_colab_link": true
    },
    "kernelspec": {
      "name": "python3",
      "display_name": "Python 3"
    }
  },
  "cells": [
    {
      "cell_type": "markdown",
      "metadata": {
        "id": "view-in-github",
        "colab_type": "text"
      },
      "source": [
        "<a href=\"https://colab.research.google.com/github/AzurAthena/GeospatialAnalysis/blob/master/1_Working_with_maps_data.ipynb\" target=\"_parent\"><img src=\"https://colab.research.google.com/assets/colab-badge.svg\" alt=\"Open In Colab\"/></a>"
      ]
    },
    {
      "cell_type": "code",
      "metadata": {
        "id": "g_8aiqKF7deO",
        "colab_type": "code",
        "colab": {
          "base_uri": "https://localhost:8080/",
          "height": 279
        },
        "outputId": "adcbc06e-144a-4501-a5a3-40b3c5ae52d0"
      },
      "source": [
        "!pip install geopandas"
      ],
      "execution_count": 18,
      "outputs": [
        {
          "output_type": "stream",
          "text": [
            "Requirement already satisfied: geopandas in /usr/local/lib/python3.6/dist-packages (0.8.1)\n",
            "Requirement already satisfied: fiona in /usr/local/lib/python3.6/dist-packages (from geopandas) (1.8.16)\n",
            "Requirement already satisfied: shapely in /usr/local/lib/python3.6/dist-packages (from geopandas) (1.7.1)\n",
            "Requirement already satisfied: pyproj>=2.2.0 in /usr/local/lib/python3.6/dist-packages (from geopandas) (2.6.1.post1)\n",
            "Requirement already satisfied: pandas>=0.23.0 in /usr/local/lib/python3.6/dist-packages (from geopandas) (1.0.5)\n",
            "Requirement already satisfied: cligj>=0.5 in /usr/local/lib/python3.6/dist-packages (from fiona->geopandas) (0.5.0)\n",
            "Requirement already satisfied: click<8,>=4.0 in /usr/local/lib/python3.6/dist-packages (from fiona->geopandas) (7.1.2)\n",
            "Requirement already satisfied: attrs>=17 in /usr/local/lib/python3.6/dist-packages (from fiona->geopandas) (20.1.0)\n",
            "Requirement already satisfied: click-plugins>=1.0 in /usr/local/lib/python3.6/dist-packages (from fiona->geopandas) (1.1.1)\n",
            "Requirement already satisfied: munch in /usr/local/lib/python3.6/dist-packages (from fiona->geopandas) (2.5.0)\n",
            "Requirement already satisfied: six>=1.7 in /usr/local/lib/python3.6/dist-packages (from fiona->geopandas) (1.15.0)\n",
            "Requirement already satisfied: python-dateutil>=2.6.1 in /usr/local/lib/python3.6/dist-packages (from pandas>=0.23.0->geopandas) (2.8.1)\n",
            "Requirement already satisfied: pytz>=2017.2 in /usr/local/lib/python3.6/dist-packages (from pandas>=0.23.0->geopandas) (2018.9)\n",
            "Requirement already satisfied: numpy>=1.13.3 in /usr/local/lib/python3.6/dist-packages (from pandas>=0.23.0->geopandas) (1.18.5)\n"
          ],
          "name": "stdout"
        }
      ]
    },
    {
      "cell_type": "code",
      "metadata": {
        "id": "fW8Cq3Qu8Xmt",
        "colab_type": "code",
        "colab": {}
      },
      "source": [
        "import os"
      ],
      "execution_count": 19,
      "outputs": []
    },
    {
      "cell_type": "code",
      "metadata": {
        "id": "NXmwBB2n96AW",
        "colab_type": "code",
        "colab": {
          "base_uri": "https://localhost:8080/",
          "height": 36
        },
        "outputId": "df8d0812-c3fa-45c1-8843-77c92bfe3d74"
      },
      "source": [
        "os.listdir(\"./\")"
      ],
      "execution_count": 20,
      "outputs": [
        {
          "output_type": "execute_result",
          "data": {
            "text/plain": [
              "['.config', 'drive', 'sample_data']"
            ]
          },
          "metadata": {
            "tags": []
          },
          "execution_count": 20
        }
      ]
    },
    {
      "cell_type": "code",
      "metadata": {
        "id": "zJRCm8nY98R3",
        "colab_type": "code",
        "colab": {}
      },
      "source": [
        "data_dir = \"./drive/My Drive/Data/geospatial/data/\""
      ],
      "execution_count": 21,
      "outputs": []
    },
    {
      "cell_type": "code",
      "metadata": {
        "id": "mXC-ZRJx-Hd_",
        "colab_type": "code",
        "colab": {
          "base_uri": "https://localhost:8080/",
          "height": 503
        },
        "outputId": "68d6fb56-0e46-46db-b4cf-895218792538"
      },
      "source": [
        "os.listdir(data_dir)"
      ],
      "execution_count": 22,
      "outputs": [
        {
          "output_type": "execute_result",
          "data": {
            "text/plain": [
              "['CA_county_median_age.csv',\n",
              " 'CA_county_high_earners.csv',\n",
              " 'CA_county_population.csv',\n",
              " 'Philippines_AL258.kml',\n",
              " 'earthquakes1970-2014.csv',\n",
              " 'japan-prefecture-population.csv',\n",
              " 'starbucks_locations.csv',\n",
              " 'top_universities.csv',\n",
              " 'purple_martin.csv',\n",
              " 'NYPD_Motor_Vehicle_Collisions',\n",
              " 'ghana',\n",
              " 'ex4_files',\n",
              " 'DEC_pointsinterest',\n",
              " 'DEC_lands',\n",
              " 'DEC_roadstrails',\n",
              " 'crimes-in-boston',\n",
              " 'kiva_loans',\n",
              " 'CA_county_boundaries',\n",
              " 'japan-prefecture-boundaries',\n",
              " 'PhillyHealth_Air_Monitoring_Stations',\n",
              " 'nyu_2451_34494',\n",
              " 'NY_county_boundaries',\n",
              " 'toxic_release_pennsylvania',\n",
              " 'Plate_Boundaries',\n",
              " 'SAPA_Aug2019-shapefile',\n",
              " 'Police_Districts']"
            ]
          },
          "metadata": {
            "tags": []
          },
          "execution_count": 22
        }
      ]
    },
    {
      "cell_type": "code",
      "metadata": {
        "id": "63Olzul1-zeF",
        "colab_type": "code",
        "colab": {}
      },
      "source": [
        "import geopandas as gpd"
      ],
      "execution_count": 24,
      "outputs": []
    },
    {
      "cell_type": "code",
      "metadata": {
        "id": "CbFDFKDr-KX4",
        "colab_type": "code",
        "colab": {}
      },
      "source": [
        "lands_data = gpd.read_file(data_dir + \"DEC_lands/DEC_lands/DEC_lands.shp\")"
      ],
      "execution_count": 25,
      "outputs": []
    },
    {
      "cell_type": "code",
      "metadata": {
        "id": "hZhQa7dF-xiM",
        "colab_type": "code",
        "colab": {
          "base_uri": "https://localhost:8080/",
          "height": 573
        },
        "outputId": "0fcc8cf6-d383-472d-ee6b-a17450938b33"
      },
      "source": [
        "lands_data.head()"
      ],
      "execution_count": 26,
      "outputs": [
        {
          "output_type": "execute_result",
          "data": {
            "text/html": [
              "<div>\n",
              "<style scoped>\n",
              "    .dataframe tbody tr th:only-of-type {\n",
              "        vertical-align: middle;\n",
              "    }\n",
              "\n",
              "    .dataframe tbody tr th {\n",
              "        vertical-align: top;\n",
              "    }\n",
              "\n",
              "    .dataframe thead th {\n",
              "        text-align: right;\n",
              "    }\n",
              "</style>\n",
              "<table border=\"1\" class=\"dataframe\">\n",
              "  <thead>\n",
              "    <tr style=\"text-align: right;\">\n",
              "      <th></th>\n",
              "      <th>OBJECTID</th>\n",
              "      <th>CATEGORY</th>\n",
              "      <th>UNIT</th>\n",
              "      <th>FACILITY</th>\n",
              "      <th>CLASS</th>\n",
              "      <th>UMP</th>\n",
              "      <th>DESCRIPTIO</th>\n",
              "      <th>REGION</th>\n",
              "      <th>COUNTY</th>\n",
              "      <th>URL</th>\n",
              "      <th>SOURCE</th>\n",
              "      <th>UPDATE_</th>\n",
              "      <th>OFFICE</th>\n",
              "      <th>ACRES</th>\n",
              "      <th>LANDS_UID</th>\n",
              "      <th>GREENCERT</th>\n",
              "      <th>SHAPE_AREA</th>\n",
              "      <th>SHAPE_LEN</th>\n",
              "      <th>geometry</th>\n",
              "    </tr>\n",
              "  </thead>\n",
              "  <tbody>\n",
              "    <tr>\n",
              "      <th>0</th>\n",
              "      <td>1</td>\n",
              "      <td>FOR PRES DET PAR</td>\n",
              "      <td>CFP</td>\n",
              "      <td>HANCOCK FP DETACHED PARCEL</td>\n",
              "      <td>WILD FOREST</td>\n",
              "      <td>None</td>\n",
              "      <td>DELAWARE COUNTY DETACHED PARCEL</td>\n",
              "      <td>4</td>\n",
              "      <td>DELAWARE</td>\n",
              "      <td>http://www.dec.ny.gov/</td>\n",
              "      <td>DELAWARE RPP</td>\n",
              "      <td>5/12</td>\n",
              "      <td>STAMFORD</td>\n",
              "      <td>738.620192</td>\n",
              "      <td>103</td>\n",
              "      <td>N</td>\n",
              "      <td>2.990365e+06</td>\n",
              "      <td>7927.662385</td>\n",
              "      <td>POLYGON ((486093.245 4635308.586, 486787.235 4...</td>\n",
              "    </tr>\n",
              "    <tr>\n",
              "      <th>1</th>\n",
              "      <td>2</td>\n",
              "      <td>FOR PRES DET PAR</td>\n",
              "      <td>CFP</td>\n",
              "      <td>HANCOCK FP DETACHED PARCEL</td>\n",
              "      <td>WILD FOREST</td>\n",
              "      <td>None</td>\n",
              "      <td>DELAWARE COUNTY DETACHED PARCEL</td>\n",
              "      <td>4</td>\n",
              "      <td>DELAWARE</td>\n",
              "      <td>http://www.dec.ny.gov/</td>\n",
              "      <td>DELAWARE RPP</td>\n",
              "      <td>5/12</td>\n",
              "      <td>STAMFORD</td>\n",
              "      <td>282.553140</td>\n",
              "      <td>1218</td>\n",
              "      <td>N</td>\n",
              "      <td>1.143940e+06</td>\n",
              "      <td>4776.375600</td>\n",
              "      <td>POLYGON ((491931.514 4637416.256, 491305.424 4...</td>\n",
              "    </tr>\n",
              "    <tr>\n",
              "      <th>2</th>\n",
              "      <td>3</td>\n",
              "      <td>FOR PRES DET PAR</td>\n",
              "      <td>CFP</td>\n",
              "      <td>HANCOCK FP DETACHED PARCEL</td>\n",
              "      <td>WILD FOREST</td>\n",
              "      <td>None</td>\n",
              "      <td>DELAWARE COUNTY DETACHED PARCEL</td>\n",
              "      <td>4</td>\n",
              "      <td>DELAWARE</td>\n",
              "      <td>http://www.dec.ny.gov/</td>\n",
              "      <td>DELAWARE RPP</td>\n",
              "      <td>5/12</td>\n",
              "      <td>STAMFORD</td>\n",
              "      <td>234.291262</td>\n",
              "      <td>1780</td>\n",
              "      <td>N</td>\n",
              "      <td>9.485476e+05</td>\n",
              "      <td>5783.070364</td>\n",
              "      <td>POLYGON ((486000.287 4635834.453, 485007.550 4...</td>\n",
              "    </tr>\n",
              "    <tr>\n",
              "      <th>3</th>\n",
              "      <td>4</td>\n",
              "      <td>FOR PRES DET PAR</td>\n",
              "      <td>CFP</td>\n",
              "      <td>GREENE COUNTY FP DETACHED PARCEL</td>\n",
              "      <td>WILD FOREST</td>\n",
              "      <td>None</td>\n",
              "      <td>None</td>\n",
              "      <td>4</td>\n",
              "      <td>GREENE</td>\n",
              "      <td>http://www.dec.ny.gov/</td>\n",
              "      <td>GREENE RPP</td>\n",
              "      <td>5/12</td>\n",
              "      <td>STAMFORD</td>\n",
              "      <td>450.106464</td>\n",
              "      <td>2060</td>\n",
              "      <td>N</td>\n",
              "      <td>1.822293e+06</td>\n",
              "      <td>7021.644833</td>\n",
              "      <td>POLYGON ((541716.775 4675243.268, 541217.579 4...</td>\n",
              "    </tr>\n",
              "    <tr>\n",
              "      <th>4</th>\n",
              "      <td>6</td>\n",
              "      <td>FOREST PRESERVE</td>\n",
              "      <td>AFP</td>\n",
              "      <td>SARANAC LAKES WILD FOREST</td>\n",
              "      <td>WILD FOREST</td>\n",
              "      <td>SARANAC LAKES</td>\n",
              "      <td>None</td>\n",
              "      <td>5</td>\n",
              "      <td>ESSEX</td>\n",
              "      <td>http://www.dec.ny.gov/lands/22593.html</td>\n",
              "      <td>DECRP, ESSEX RPP</td>\n",
              "      <td>12/96</td>\n",
              "      <td>RAY BROOK</td>\n",
              "      <td>69.702387</td>\n",
              "      <td>1517</td>\n",
              "      <td>N</td>\n",
              "      <td>2.821959e+05</td>\n",
              "      <td>2663.909932</td>\n",
              "      <td>POLYGON ((583896.043 4909643.187, 583891.200 4...</td>\n",
              "    </tr>\n",
              "  </tbody>\n",
              "</table>\n",
              "</div>"
            ],
            "text/plain": [
              "   OBJECTID  ...                                           geometry\n",
              "0         1  ...  POLYGON ((486093.245 4635308.586, 486787.235 4...\n",
              "1         2  ...  POLYGON ((491931.514 4637416.256, 491305.424 4...\n",
              "2         3  ...  POLYGON ((486000.287 4635834.453, 485007.550 4...\n",
              "3         4  ...  POLYGON ((541716.775 4675243.268, 541217.579 4...\n",
              "4         6  ...  POLYGON ((583896.043 4909643.187, 583891.200 4...\n",
              "\n",
              "[5 rows x 19 columns]"
            ]
          },
          "metadata": {
            "tags": []
          },
          "execution_count": 26
        }
      ]
    },
    {
      "cell_type": "code",
      "metadata": {
        "id": "ZT-151DU-7Qo",
        "colab_type": "code",
        "colab": {
          "base_uri": "https://localhost:8080/",
          "height": 391
        },
        "outputId": "50c247fd-bccf-4499-d0a3-99067a1d712a"
      },
      "source": [
        "lands_data.dtypes"
      ],
      "execution_count": 27,
      "outputs": [
        {
          "output_type": "execute_result",
          "data": {
            "text/plain": [
              "OBJECTID         int64\n",
              "CATEGORY        object\n",
              "UNIT            object\n",
              "FACILITY        object\n",
              "CLASS           object\n",
              "UMP             object\n",
              "DESCRIPTIO      object\n",
              "REGION           int64\n",
              "COUNTY          object\n",
              "URL             object\n",
              "SOURCE          object\n",
              "UPDATE_         object\n",
              "OFFICE          object\n",
              "ACRES          float64\n",
              "LANDS_UID        int64\n",
              "GREENCERT       object\n",
              "SHAPE_AREA     float64\n",
              "SHAPE_LEN      float64\n",
              "geometry      geometry\n",
              "dtype: object"
            ]
          },
          "metadata": {
            "tags": []
          },
          "execution_count": 27
        }
      ]
    },
    {
      "cell_type": "code",
      "metadata": {
        "id": "0EAFAYQL_C84",
        "colab_type": "code",
        "colab": {
          "base_uri": "https://localhost:8080/",
          "height": 36
        },
        "outputId": "f38cde79-7537-45eb-a4ee-4a562860e2ad"
      },
      "source": [
        "type(lands_data)"
      ],
      "execution_count": 28,
      "outputs": [
        {
          "output_type": "execute_result",
          "data": {
            "text/plain": [
              "geopandas.geodataframe.GeoDataFrame"
            ]
          },
          "metadata": {
            "tags": []
          },
          "execution_count": 28
        }
      ]
    },
    {
      "cell_type": "code",
      "metadata": {
        "id": "uYUDeDhz_Lh8",
        "colab_type": "code",
        "colab": {}
      },
      "source": [
        "# select only desired columns\n",
        "lands_data = lands_data.loc[:, [\"CLASS\", \"COUNTY\", \"geometry\"]].copy()"
      ],
      "execution_count": 30,
      "outputs": []
    },
    {
      "cell_type": "code",
      "metadata": {
        "id": "oeSivvnG_TYG",
        "colab_type": "code",
        "colab": {
          "base_uri": "https://localhost:8080/",
          "height": 206
        },
        "outputId": "42652a0a-1a95-446c-bfa4-0e7c0286889f"
      },
      "source": [
        "lands_data.head()"
      ],
      "execution_count": 31,
      "outputs": [
        {
          "output_type": "execute_result",
          "data": {
            "text/html": [
              "<div>\n",
              "<style scoped>\n",
              "    .dataframe tbody tr th:only-of-type {\n",
              "        vertical-align: middle;\n",
              "    }\n",
              "\n",
              "    .dataframe tbody tr th {\n",
              "        vertical-align: top;\n",
              "    }\n",
              "\n",
              "    .dataframe thead th {\n",
              "        text-align: right;\n",
              "    }\n",
              "</style>\n",
              "<table border=\"1\" class=\"dataframe\">\n",
              "  <thead>\n",
              "    <tr style=\"text-align: right;\">\n",
              "      <th></th>\n",
              "      <th>CLASS</th>\n",
              "      <th>COUNTY</th>\n",
              "      <th>geometry</th>\n",
              "    </tr>\n",
              "  </thead>\n",
              "  <tbody>\n",
              "    <tr>\n",
              "      <th>0</th>\n",
              "      <td>WILD FOREST</td>\n",
              "      <td>DELAWARE</td>\n",
              "      <td>POLYGON ((486093.245 4635308.586, 486787.235 4...</td>\n",
              "    </tr>\n",
              "    <tr>\n",
              "      <th>1</th>\n",
              "      <td>WILD FOREST</td>\n",
              "      <td>DELAWARE</td>\n",
              "      <td>POLYGON ((491931.514 4637416.256, 491305.424 4...</td>\n",
              "    </tr>\n",
              "    <tr>\n",
              "      <th>2</th>\n",
              "      <td>WILD FOREST</td>\n",
              "      <td>DELAWARE</td>\n",
              "      <td>POLYGON ((486000.287 4635834.453, 485007.550 4...</td>\n",
              "    </tr>\n",
              "    <tr>\n",
              "      <th>3</th>\n",
              "      <td>WILD FOREST</td>\n",
              "      <td>GREENE</td>\n",
              "      <td>POLYGON ((541716.775 4675243.268, 541217.579 4...</td>\n",
              "    </tr>\n",
              "    <tr>\n",
              "      <th>4</th>\n",
              "      <td>WILD FOREST</td>\n",
              "      <td>ESSEX</td>\n",
              "      <td>POLYGON ((583896.043 4909643.187, 583891.200 4...</td>\n",
              "    </tr>\n",
              "  </tbody>\n",
              "</table>\n",
              "</div>"
            ],
            "text/plain": [
              "         CLASS    COUNTY                                           geometry\n",
              "0  WILD FOREST  DELAWARE  POLYGON ((486093.245 4635308.586, 486787.235 4...\n",
              "1  WILD FOREST  DELAWARE  POLYGON ((491931.514 4637416.256, 491305.424 4...\n",
              "2  WILD FOREST  DELAWARE  POLYGON ((486000.287 4635834.453, 485007.550 4...\n",
              "3  WILD FOREST    GREENE  POLYGON ((541716.775 4675243.268, 541217.579 4...\n",
              "4  WILD FOREST     ESSEX  POLYGON ((583896.043 4909643.187, 583891.200 4..."
            ]
          },
          "metadata": {
            "tags": []
          },
          "execution_count": 31
        }
      ]
    },
    {
      "cell_type": "code",
      "metadata": {
        "id": "YhQ8F8yv_WP4",
        "colab_type": "code",
        "colab": {
          "base_uri": "https://localhost:8080/",
          "height": 204
        },
        "outputId": "f76a1683-8bf5-4ba7-e94c-5550221fc9d9"
      },
      "source": [
        "# how many lands of each type are there?\n",
        "lands_data.CLASS.value_counts()"
      ],
      "execution_count": 32,
      "outputs": [
        {
          "output_type": "execute_result",
          "data": {
            "text/plain": [
              "WILD FOREST                   965\n",
              "INTENSIVE USE                 108\n",
              "PRIMITIVE                      60\n",
              "WILDERNESS                     52\n",
              "ADMINISTRATIVE                 17\n",
              "UNCLASSIFIED                    7\n",
              "HISTORIC                        5\n",
              "PRIMITIVE BICYCLE CORRIDOR      4\n",
              "CANOE AREA                      1\n",
              "Name: CLASS, dtype: int64"
            ]
          },
          "metadata": {
            "tags": []
          },
          "execution_count": 32
        }
      ]
    },
    {
      "cell_type": "code",
      "metadata": {
        "id": "ANbnvsSB_h4u",
        "colab_type": "code",
        "colab": {
          "base_uri": "https://localhost:8080/",
          "height": 206
        },
        "outputId": "03740d00-9fdf-4928-984a-ff3c31030427"
      },
      "source": [
        "# select lands that fall under the \"WILD FOREST\" or \"WILDERNESS\" category\n",
        "wild_lands = lands_data.loc[lands_data.CLASS.isin(['WILD FOREST', 'WILDERNESS'])].copy()\n",
        "wild_lands.head()"
      ],
      "execution_count": 35,
      "outputs": [
        {
          "output_type": "execute_result",
          "data": {
            "text/html": [
              "<div>\n",
              "<style scoped>\n",
              "    .dataframe tbody tr th:only-of-type {\n",
              "        vertical-align: middle;\n",
              "    }\n",
              "\n",
              "    .dataframe tbody tr th {\n",
              "        vertical-align: top;\n",
              "    }\n",
              "\n",
              "    .dataframe thead th {\n",
              "        text-align: right;\n",
              "    }\n",
              "</style>\n",
              "<table border=\"1\" class=\"dataframe\">\n",
              "  <thead>\n",
              "    <tr style=\"text-align: right;\">\n",
              "      <th></th>\n",
              "      <th>CLASS</th>\n",
              "      <th>COUNTY</th>\n",
              "      <th>geometry</th>\n",
              "    </tr>\n",
              "  </thead>\n",
              "  <tbody>\n",
              "    <tr>\n",
              "      <th>0</th>\n",
              "      <td>WILD FOREST</td>\n",
              "      <td>DELAWARE</td>\n",
              "      <td>POLYGON ((486093.245 4635308.586, 486787.235 4...</td>\n",
              "    </tr>\n",
              "    <tr>\n",
              "      <th>1</th>\n",
              "      <td>WILD FOREST</td>\n",
              "      <td>DELAWARE</td>\n",
              "      <td>POLYGON ((491931.514 4637416.256, 491305.424 4...</td>\n",
              "    </tr>\n",
              "    <tr>\n",
              "      <th>2</th>\n",
              "      <td>WILD FOREST</td>\n",
              "      <td>DELAWARE</td>\n",
              "      <td>POLYGON ((486000.287 4635834.453, 485007.550 4...</td>\n",
              "    </tr>\n",
              "    <tr>\n",
              "      <th>3</th>\n",
              "      <td>WILD FOREST</td>\n",
              "      <td>GREENE</td>\n",
              "      <td>POLYGON ((541716.775 4675243.268, 541217.579 4...</td>\n",
              "    </tr>\n",
              "    <tr>\n",
              "      <th>4</th>\n",
              "      <td>WILD FOREST</td>\n",
              "      <td>ESSEX</td>\n",
              "      <td>POLYGON ((583896.043 4909643.187, 583891.200 4...</td>\n",
              "    </tr>\n",
              "  </tbody>\n",
              "</table>\n",
              "</div>"
            ],
            "text/plain": [
              "         CLASS    COUNTY                                           geometry\n",
              "0  WILD FOREST  DELAWARE  POLYGON ((486093.245 4635308.586, 486787.235 4...\n",
              "1  WILD FOREST  DELAWARE  POLYGON ((491931.514 4637416.256, 491305.424 4...\n",
              "2  WILD FOREST  DELAWARE  POLYGON ((486000.287 4635834.453, 485007.550 4...\n",
              "3  WILD FOREST    GREENE  POLYGON ((541716.775 4675243.268, 541217.579 4...\n",
              "4  WILD FOREST     ESSEX  POLYGON ((583896.043 4909643.187, 583891.200 4..."
            ]
          },
          "metadata": {
            "tags": []
          },
          "execution_count": 35
        }
      ]
    },
    {
      "cell_type": "code",
      "metadata": {
        "id": "obh1TGNh_riv",
        "colab_type": "code",
        "colab": {
          "base_uri": "https://localhost:8080/",
          "height": 295
        },
        "outputId": "bd526546-d077-442b-d798-c971497af908"
      },
      "source": [
        "# plot the map\n",
        "wild_lands.plot()\n",
        "\n",
        "# Every GeoDataFrame contains a special \"geometry\" column. \n",
        "# It contains all of the geometric objects that are displayed when we call \n",
        "# the plot() method.\n"
      ],
      "execution_count": 36,
      "outputs": [
        {
          "output_type": "execute_result",
          "data": {
            "text/plain": [
              "<matplotlib.axes._subplots.AxesSubplot at 0x7fbbc5ec8f98>"
            ]
          },
          "metadata": {
            "tags": []
          },
          "execution_count": 36
        },
        {
          "output_type": "display_data",
          "data": {
            "image/png": "[encoded data removed]",
            "text/plain": [
              "<Figure size 432x288 with 1 Axes>"
            ]
          },
          "metadata": {
            "tags": [],
            "needs_background": "light"
          }
        }
      ]
    },
    {
      "cell_type": "code",
      "metadata": {
        "id": "1kyjiC-q_2h3",
        "colab_type": "code",
        "colab": {}
      },
      "source": [
        "# Geometry column can contain a variety of different datatypes, \n",
        "# each entry will typically be a Point, LineString, or Polygon."
      ],
      "execution_count": 37,
      "outputs": []
    },
    {
      "cell_type": "code",
      "metadata": {
        "id": "LL2w-0wvANd8",
        "colab_type": "code",
        "colab": {}
      },
      "source": [
        "# load different types of data"
      ],
      "execution_count": 38,
      "outputs": []
    },
    {
      "cell_type": "code",
      "metadata": {
        "id": "GZ3vtMMcASKG",
        "colab_type": "code",
        "colab": {}
      },
      "source": [
        "# Campsites in New York state (Point)\n",
        "POI_data = gpd.read_file(data_dir + \"DEC_pointsinterest/DEC_pointsinterest/Decptsofinterest.shp\")\n",
        "campsites = POI_data.loc[POI_data.ASSET=='PRIMITIVE CAMPSITE'].copy()\n",
        "\n",
        "# Foot trails in New York state (LineString)\n",
        "roads_trails = gpd.read_file(data_dir + \"DEC_roadstrails/DEC_roadstrails/Decroadstrails.shp\")\n",
        "trails = roads_trails.loc[roads_trails.ASSET=='FOOT TRAIL'].copy()\n",
        "\n",
        "# County boundaries in New York state (Polygon)\n",
        "counties = gpd.read_file(data_dir + \"NY_county_boundaries/NY_county_boundaries/NY_county_boundaries.shp\")"
      ],
      "execution_count": 39,
      "outputs": []
    },
    {
      "cell_type": "code",
      "metadata": {
        "id": "kHqAgF8QAe3g",
        "colab_type": "code",
        "colab": {
          "base_uri": "https://localhost:8080/",
          "height": 504
        },
        "outputId": "3a12c637-2d6c-4291-97c6-e198f427d3aa"
      },
      "source": [
        "# Define a base map with county boundaries\n",
        "ax = counties.plot(figsize=(10,10), color='none', edgecolor='gainsboro', zorder=3)\n",
        "\n",
        "# Add wild lands, campsites, and foot trails to the base map\n",
        "wild_lands.plot(color='lightgreen', ax=ax)\n",
        "campsites.plot(color='maroon', markersize=2, ax=ax)\n",
        "trails.plot(color='black', markersize=1, ax=ax)\n",
        "\n"
      ],
      "execution_count": 40,
      "outputs": [
        {
          "output_type": "execute_result",
          "data": {
            "text/plain": [
              "<matplotlib.axes._subplots.AxesSubplot at 0x7fbbc5e8ef98>"
            ]
          },
          "metadata": {
            "tags": []
          },
          "execution_count": 40
        },
        {
          "output_type": "display_data",
          "data": {
            "image/png": "[encoded data removed]",
            "text/plain": [
              "<Figure size 720x720 with 1 Axes>"
            ]
          },
          "metadata": {
            "tags": [],
            "needs_background": "light"
          }
        }
      ]
    },
    {
      "cell_type": "code",
      "metadata": {
        "id": "88XUsYlRAwRe",
        "colab_type": "code",
        "colab": {}
      },
      "source": [
        ""
      ],
      "execution_count": null,
      "outputs": []
    }
  ]
}